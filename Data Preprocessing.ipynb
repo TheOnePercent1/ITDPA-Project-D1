{
 "cells": [
  {
   "cell_type": "markdown",
   "id": "7d11ee49-bdf7-4123-9217-c4f7ae828a8e",
   "metadata": {},
   "source": [
    "Data preprocessing"
   ]
  },
  {
   "cell_type": "markdown",
   "id": "77e6dfb2-1a84-4574-bb44-08770e0006bb",
   "metadata": {},
   "source": [
    "Here below is where data is being imported , a weather dataset from a CSV file (weatherdata--1111422(in).csv) using pd.read_csv() and printing the entire DataFrame using df.to_string(). This allows you to inspect all rows and columns of the dataset, which includes weather attributes such as date, location (longitude, latitude), elevation, temperatures, precipitation, wind, relative humidity, and solar radiation (which currently has missing values)."
   ]
  },
  {
   "cell_type": "code",
   "execution_count": 3,
   "id": "0c1f18fc-1935-4e2f-ac9e-0d75f1d540f1",
   "metadata": {},
   "outputs": [
    {
     "ename": "FileNotFoundError",
     "evalue": "[Errno 2] No such file or directory: '/Users/dani-myburgh/Downloads/weatherdata--1111422(in).csv'",
     "output_type": "error",
     "traceback": [
      "\u001b[1;31m---------------------------------------------------------------------------\u001b[0m",
      "\u001b[1;31mFileNotFoundError\u001b[0m                         Traceback (most recent call last)",
      "Cell \u001b[1;32mIn[3], line 2\u001b[0m\n\u001b[0;32m      1\u001b[0m \u001b[38;5;28;01mimport\u001b[39;00m \u001b[38;5;21;01mpandas\u001b[39;00m \u001b[38;5;28;01mas\u001b[39;00m \u001b[38;5;21;01mpd\u001b[39;00m\n\u001b[1;32m----> 2\u001b[0m df \u001b[38;5;241m=\u001b[39m pd\u001b[38;5;241m.\u001b[39mread_csv(\u001b[38;5;124m'\u001b[39m\u001b[38;5;124m/Users/dani-myburgh/Downloads/weatherdata--1111422(in).csv\u001b[39m\u001b[38;5;124m'\u001b[39m)\n\u001b[0;32m      3\u001b[0m \u001b[38;5;28mprint\u001b[39m(df\u001b[38;5;241m.\u001b[39mto_string())\n",
      "File \u001b[1;32m~\\anaconda3\\Lib\\site-packages\\pandas\\io\\parsers\\readers.py:1026\u001b[0m, in \u001b[0;36mread_csv\u001b[1;34m(filepath_or_buffer, sep, delimiter, header, names, index_col, usecols, dtype, engine, converters, true_values, false_values, skipinitialspace, skiprows, skipfooter, nrows, na_values, keep_default_na, na_filter, verbose, skip_blank_lines, parse_dates, infer_datetime_format, keep_date_col, date_parser, date_format, dayfirst, cache_dates, iterator, chunksize, compression, thousands, decimal, lineterminator, quotechar, quoting, doublequote, escapechar, comment, encoding, encoding_errors, dialect, on_bad_lines, delim_whitespace, low_memory, memory_map, float_precision, storage_options, dtype_backend)\u001b[0m\n\u001b[0;32m   1013\u001b[0m kwds_defaults \u001b[38;5;241m=\u001b[39m _refine_defaults_read(\n\u001b[0;32m   1014\u001b[0m     dialect,\n\u001b[0;32m   1015\u001b[0m     delimiter,\n\u001b[1;32m   (...)\u001b[0m\n\u001b[0;32m   1022\u001b[0m     dtype_backend\u001b[38;5;241m=\u001b[39mdtype_backend,\n\u001b[0;32m   1023\u001b[0m )\n\u001b[0;32m   1024\u001b[0m kwds\u001b[38;5;241m.\u001b[39mupdate(kwds_defaults)\n\u001b[1;32m-> 1026\u001b[0m \u001b[38;5;28;01mreturn\u001b[39;00m _read(filepath_or_buffer, kwds)\n",
      "File \u001b[1;32m~\\anaconda3\\Lib\\site-packages\\pandas\\io\\parsers\\readers.py:620\u001b[0m, in \u001b[0;36m_read\u001b[1;34m(filepath_or_buffer, kwds)\u001b[0m\n\u001b[0;32m    617\u001b[0m _validate_names(kwds\u001b[38;5;241m.\u001b[39mget(\u001b[38;5;124m\"\u001b[39m\u001b[38;5;124mnames\u001b[39m\u001b[38;5;124m\"\u001b[39m, \u001b[38;5;28;01mNone\u001b[39;00m))\n\u001b[0;32m    619\u001b[0m \u001b[38;5;66;03m# Create the parser.\u001b[39;00m\n\u001b[1;32m--> 620\u001b[0m parser \u001b[38;5;241m=\u001b[39m TextFileReader(filepath_or_buffer, \u001b[38;5;241m*\u001b[39m\u001b[38;5;241m*\u001b[39mkwds)\n\u001b[0;32m    622\u001b[0m \u001b[38;5;28;01mif\u001b[39;00m chunksize \u001b[38;5;129;01mor\u001b[39;00m iterator:\n\u001b[0;32m    623\u001b[0m     \u001b[38;5;28;01mreturn\u001b[39;00m parser\n",
      "File \u001b[1;32m~\\anaconda3\\Lib\\site-packages\\pandas\\io\\parsers\\readers.py:1620\u001b[0m, in \u001b[0;36mTextFileReader.__init__\u001b[1;34m(self, f, engine, **kwds)\u001b[0m\n\u001b[0;32m   1617\u001b[0m     \u001b[38;5;28mself\u001b[39m\u001b[38;5;241m.\u001b[39moptions[\u001b[38;5;124m\"\u001b[39m\u001b[38;5;124mhas_index_names\u001b[39m\u001b[38;5;124m\"\u001b[39m] \u001b[38;5;241m=\u001b[39m kwds[\u001b[38;5;124m\"\u001b[39m\u001b[38;5;124mhas_index_names\u001b[39m\u001b[38;5;124m\"\u001b[39m]\n\u001b[0;32m   1619\u001b[0m \u001b[38;5;28mself\u001b[39m\u001b[38;5;241m.\u001b[39mhandles: IOHandles \u001b[38;5;241m|\u001b[39m \u001b[38;5;28;01mNone\u001b[39;00m \u001b[38;5;241m=\u001b[39m \u001b[38;5;28;01mNone\u001b[39;00m\n\u001b[1;32m-> 1620\u001b[0m \u001b[38;5;28mself\u001b[39m\u001b[38;5;241m.\u001b[39m_engine \u001b[38;5;241m=\u001b[39m \u001b[38;5;28mself\u001b[39m\u001b[38;5;241m.\u001b[39m_make_engine(f, \u001b[38;5;28mself\u001b[39m\u001b[38;5;241m.\u001b[39mengine)\n",
      "File \u001b[1;32m~\\anaconda3\\Lib\\site-packages\\pandas\\io\\parsers\\readers.py:1880\u001b[0m, in \u001b[0;36mTextFileReader._make_engine\u001b[1;34m(self, f, engine)\u001b[0m\n\u001b[0;32m   1878\u001b[0m     \u001b[38;5;28;01mif\u001b[39;00m \u001b[38;5;124m\"\u001b[39m\u001b[38;5;124mb\u001b[39m\u001b[38;5;124m\"\u001b[39m \u001b[38;5;129;01mnot\u001b[39;00m \u001b[38;5;129;01min\u001b[39;00m mode:\n\u001b[0;32m   1879\u001b[0m         mode \u001b[38;5;241m+\u001b[39m\u001b[38;5;241m=\u001b[39m \u001b[38;5;124m\"\u001b[39m\u001b[38;5;124mb\u001b[39m\u001b[38;5;124m\"\u001b[39m\n\u001b[1;32m-> 1880\u001b[0m \u001b[38;5;28mself\u001b[39m\u001b[38;5;241m.\u001b[39mhandles \u001b[38;5;241m=\u001b[39m get_handle(\n\u001b[0;32m   1881\u001b[0m     f,\n\u001b[0;32m   1882\u001b[0m     mode,\n\u001b[0;32m   1883\u001b[0m     encoding\u001b[38;5;241m=\u001b[39m\u001b[38;5;28mself\u001b[39m\u001b[38;5;241m.\u001b[39moptions\u001b[38;5;241m.\u001b[39mget(\u001b[38;5;124m\"\u001b[39m\u001b[38;5;124mencoding\u001b[39m\u001b[38;5;124m\"\u001b[39m, \u001b[38;5;28;01mNone\u001b[39;00m),\n\u001b[0;32m   1884\u001b[0m     compression\u001b[38;5;241m=\u001b[39m\u001b[38;5;28mself\u001b[39m\u001b[38;5;241m.\u001b[39moptions\u001b[38;5;241m.\u001b[39mget(\u001b[38;5;124m\"\u001b[39m\u001b[38;5;124mcompression\u001b[39m\u001b[38;5;124m\"\u001b[39m, \u001b[38;5;28;01mNone\u001b[39;00m),\n\u001b[0;32m   1885\u001b[0m     memory_map\u001b[38;5;241m=\u001b[39m\u001b[38;5;28mself\u001b[39m\u001b[38;5;241m.\u001b[39moptions\u001b[38;5;241m.\u001b[39mget(\u001b[38;5;124m\"\u001b[39m\u001b[38;5;124mmemory_map\u001b[39m\u001b[38;5;124m\"\u001b[39m, \u001b[38;5;28;01mFalse\u001b[39;00m),\n\u001b[0;32m   1886\u001b[0m     is_text\u001b[38;5;241m=\u001b[39mis_text,\n\u001b[0;32m   1887\u001b[0m     errors\u001b[38;5;241m=\u001b[39m\u001b[38;5;28mself\u001b[39m\u001b[38;5;241m.\u001b[39moptions\u001b[38;5;241m.\u001b[39mget(\u001b[38;5;124m\"\u001b[39m\u001b[38;5;124mencoding_errors\u001b[39m\u001b[38;5;124m\"\u001b[39m, \u001b[38;5;124m\"\u001b[39m\u001b[38;5;124mstrict\u001b[39m\u001b[38;5;124m\"\u001b[39m),\n\u001b[0;32m   1888\u001b[0m     storage_options\u001b[38;5;241m=\u001b[39m\u001b[38;5;28mself\u001b[39m\u001b[38;5;241m.\u001b[39moptions\u001b[38;5;241m.\u001b[39mget(\u001b[38;5;124m\"\u001b[39m\u001b[38;5;124mstorage_options\u001b[39m\u001b[38;5;124m\"\u001b[39m, \u001b[38;5;28;01mNone\u001b[39;00m),\n\u001b[0;32m   1889\u001b[0m )\n\u001b[0;32m   1890\u001b[0m \u001b[38;5;28;01massert\u001b[39;00m \u001b[38;5;28mself\u001b[39m\u001b[38;5;241m.\u001b[39mhandles \u001b[38;5;129;01mis\u001b[39;00m \u001b[38;5;129;01mnot\u001b[39;00m \u001b[38;5;28;01mNone\u001b[39;00m\n\u001b[0;32m   1891\u001b[0m f \u001b[38;5;241m=\u001b[39m \u001b[38;5;28mself\u001b[39m\u001b[38;5;241m.\u001b[39mhandles\u001b[38;5;241m.\u001b[39mhandle\n",
      "File \u001b[1;32m~\\anaconda3\\Lib\\site-packages\\pandas\\io\\common.py:873\u001b[0m, in \u001b[0;36mget_handle\u001b[1;34m(path_or_buf, mode, encoding, compression, memory_map, is_text, errors, storage_options)\u001b[0m\n\u001b[0;32m    868\u001b[0m \u001b[38;5;28;01melif\u001b[39;00m \u001b[38;5;28misinstance\u001b[39m(handle, \u001b[38;5;28mstr\u001b[39m):\n\u001b[0;32m    869\u001b[0m     \u001b[38;5;66;03m# Check whether the filename is to be opened in binary mode.\u001b[39;00m\n\u001b[0;32m    870\u001b[0m     \u001b[38;5;66;03m# Binary mode does not support 'encoding' and 'newline'.\u001b[39;00m\n\u001b[0;32m    871\u001b[0m     \u001b[38;5;28;01mif\u001b[39;00m ioargs\u001b[38;5;241m.\u001b[39mencoding \u001b[38;5;129;01mand\u001b[39;00m \u001b[38;5;124m\"\u001b[39m\u001b[38;5;124mb\u001b[39m\u001b[38;5;124m\"\u001b[39m \u001b[38;5;129;01mnot\u001b[39;00m \u001b[38;5;129;01min\u001b[39;00m ioargs\u001b[38;5;241m.\u001b[39mmode:\n\u001b[0;32m    872\u001b[0m         \u001b[38;5;66;03m# Encoding\u001b[39;00m\n\u001b[1;32m--> 873\u001b[0m         handle \u001b[38;5;241m=\u001b[39m \u001b[38;5;28mopen\u001b[39m(\n\u001b[0;32m    874\u001b[0m             handle,\n\u001b[0;32m    875\u001b[0m             ioargs\u001b[38;5;241m.\u001b[39mmode,\n\u001b[0;32m    876\u001b[0m             encoding\u001b[38;5;241m=\u001b[39mioargs\u001b[38;5;241m.\u001b[39mencoding,\n\u001b[0;32m    877\u001b[0m             errors\u001b[38;5;241m=\u001b[39merrors,\n\u001b[0;32m    878\u001b[0m             newline\u001b[38;5;241m=\u001b[39m\u001b[38;5;124m\"\u001b[39m\u001b[38;5;124m\"\u001b[39m,\n\u001b[0;32m    879\u001b[0m         )\n\u001b[0;32m    880\u001b[0m     \u001b[38;5;28;01melse\u001b[39;00m:\n\u001b[0;32m    881\u001b[0m         \u001b[38;5;66;03m# Binary mode\u001b[39;00m\n\u001b[0;32m    882\u001b[0m         handle \u001b[38;5;241m=\u001b[39m \u001b[38;5;28mopen\u001b[39m(handle, ioargs\u001b[38;5;241m.\u001b[39mmode)\n",
      "\u001b[1;31mFileNotFoundError\u001b[0m: [Errno 2] No such file or directory: '/Users/dani-myburgh/Downloads/weatherdata--1111422(in).csv'"
     ]
    }
   ],
   "source": [
    "import pandas as pd\n",
    "df = pd.read_csv('/Users/dani-myburgh/Downloads/weatherdata--1111422(in).csv')\n",
    "print(df.to_string())"
   ]
  },
  {
   "cell_type": "markdown",
   "id": "ee8520e8-e50b-4cd9-ad19-aef7d80e16c4",
   "metadata": {},
   "source": [
    "Dropping unnecessary columns"
   ]
  },
  {
   "cell_type": "markdown",
   "id": "ab5b0b6d-3674-4de8-986c-5177825e4080",
   "metadata": {},
   "source": [
    "Dropping unnecessary columns from the DataFrame.\n",
    "The columns 'Longitude', 'Latitude', and 'Elevation' are removed because they are not required for the current analysis or modeling.This helps reduce memory usage and keeps only relevant data."
   ]
  },
  {
   "cell_type": "code",
   "execution_count": null,
   "id": "2aea3d47-31ca-49b5-b8a8-87e0f62b5c00",
   "metadata": {},
   "outputs": [],
   "source": [
    "df = df.drop(columns=['Longitude','Latitude', 'Elevation'])"
   ]
  },
  {
   "cell_type": "markdown",
   "id": "5dc29e78-1ea2-45b6-982e-fa290fa68fcc",
   "metadata": {},
   "source": [
    "Checking for null values"
   ]
  },
  {
   "cell_type": "markdown",
   "id": "779024b1-0937-40be-a17e-7a5aafb4b8df",
   "metadata": {},
   "source": [
    "Checking for null values – Ensures the dataset has no missing data that could cause errors or bias in analysis."
   ]
  },
  {
   "cell_type": "markdown",
   "id": "13958a3b-0197-46f0-b711-35581c00365e",
   "metadata": {},
   "source": [
    " Checking for null (missing) values in each column.\n",
    " df.isnull() creates a DataFrame of True/False for missing values.\n",
    ".sum() counts the number of True values (nulls) for each column"
   ]
  },
  {
   "cell_type": "code",
   "execution_count": null,
   "id": "9de1a9d4-8cdb-4469-a487-1a6c836fb576",
   "metadata": {},
   "outputs": [],
   "source": [
    "# Printing the number of null values per column"
   ]
  },
  {
   "cell_type": "code",
   "execution_count": null,
   "id": "48f02674-709f-4565-934b-18d5ca6c3a93",
   "metadata": {},
   "outputs": [],
   "source": [
    "nulls_per_column = df.isnull().sum()\n",
    "print(\"Nulls per column:\\n\", nulls_per_column)"
   ]
  },
  {
   "cell_type": "markdown",
   "id": "9aecf14b-cc70-438f-a48d-a699d731bbfd",
   "metadata": {},
   "source": [
    "Checking for duplicates "
   ]
  },
  {
   "cell_type": "markdown",
   "id": "027a42c3-73a7-4654-82e5-0b22b86cf2e0",
   "metadata": {},
   "source": [
    "Checking for duplicates – Ensures all records are unique to prevent skewing results in analysis or training a model."
   ]
  },
  {
   "cell_type": "code",
   "execution_count": null,
   "id": "ee7e8182-85b3-4e8d-91b8-647a34806be6",
   "metadata": {},
   "outputs": [],
   "source": [
    "duplicate_count = df.duplicated().sum()\n",
    "print(\"Number of duplicate rows:\", duplicate_count)"
   ]
  },
  {
   "cell_type": "markdown",
   "id": "dff292f1-4ea2-4b45-a9ec-6080604c9ca3",
   "metadata": {},
   "source": [
    "Displaying Dataframe structure and column information"
   ]
  },
  {
   "cell_type": "markdown",
   "id": "791d7a67-6832-4d32-a302-e3d267212843",
   "metadata": {},
   "source": [
    " Displaying DataFrame structure and column information\n",
    " df.info() shows:\n",
    " - Number of entries (rows)\n",
    " - Column names, non-null counts, and data types\n",
    " - Memory usage\n",
    " This helps check if any columns have incorrect data types or missing values."
   ]
  },
  {
   "cell_type": "markdown",
   "id": "73901a96-de23-420c-b56f-515dcb6ed0f0",
   "metadata": {},
   "source": [
    "df.info() – Checks column data types and ensures data is as expected before processing."
   ]
  },
  {
   "cell_type": "code",
   "execution_count": null,
   "id": "c9525467-5d24-4a03-88b4-638a755e6f7c",
   "metadata": {},
   "outputs": [],
   "source": [
    "df.info()"
   ]
  },
  {
   "cell_type": "markdown",
   "id": "1ea0e745-4680-4077-91a9-df109a204954",
   "metadata": {},
   "source": [
    "Converting 'Date' column to datatime format"
   ]
  },
  {
   "cell_type": "markdown",
   "id": "2ac617c5-50ed-4658-9095-0afcf93edcb9",
   "metadata": {},
   "source": [
    "Currently, 'Date' is stored as an object (string). \n",
    " Converting it to datetime64 allows for easier time-based operations \n",
    " such as filtering by date, resampling, and plotting time series."
   ]
  },
  {
   "cell_type": "markdown",
   "id": "448a8202-2aac-40ee-a641-a98cefd25b73",
   "metadata": {},
   "source": [
    "pd.to_datetime() – Standardizes date format for time-series operations and avoids errors in date calculations."
   ]
  },
  {
   "cell_type": "code",
   "execution_count": null,
   "id": "e79ddef3-fef2-4a29-a127-0dcee9565704",
   "metadata": {},
   "outputs": [],
   "source": [
    "df['Date'] = pd.to_datetime(df['Date'])"
   ]
  },
  {
   "cell_type": "markdown",
   "id": "398b5778-3ce0-4916-b3a0-70180e4c0edf",
   "metadata": {},
   "source": [
    "Verifying the column type change "
   ]
  },
  {
   "cell_type": "code",
   "execution_count": null,
   "id": "67ef1e57-520e-43dc-a5ed-9b5a897a3b94",
   "metadata": {},
   "outputs": [],
   "source": [
    "df.info()"
   ]
  },
  {
   "cell_type": "markdown",
   "id": "52513375-1729-435c-b07d-5075610d0668",
   "metadata": {},
   "source": [
    "Creating the average temperature columns"
   ]
  },
  {
   "cell_type": "markdown",
   "id": "55e27cfa-035a-4d56-b0a6-b29e0afcbb40",
   "metadata": {},
   "source": [
    " This column is calculated as the mean of 'Min Temperature' and 'Max Temperature'.\n",
    "#This helps in analysis where a single representative temperature is needed."
   ]
  },
  {
   "cell_type": "markdown",
   "id": "4467bf6f-5515-43aa-9c34-fdedea70fd5c",
   "metadata": {},
   "source": [
    "Creating Average Temperature – Adds a useful derived metric for easier analysis without losing min/max detail.\n",
    "\n",
    "df.to_string() – Outputs the full dataset for inspection (although in practice, this can be slow for large datasets)"
   ]
  },
  {
   "cell_type": "code",
   "execution_count": null,
   "id": "054bd786-8517-45eb-97f9-04241fbfabcf",
   "metadata": {},
   "outputs": [],
   "source": [
    "df['Average Temperature']= (df['Min Temperature'] + df['Max Temperature'])/2"
   ]
  },
  {
   "cell_type": "code",
   "execution_count": null,
   "id": "b8c46d5e-eada-4070-8822-88368c47e5fc",
   "metadata": {},
   "outputs": [],
   "source": [
    "# Printing the full DataFrame to view all rows and columns\n",
    "# df.to_string() prints the entire dataset without truncation.\n",
    "print(df.to_string())"
   ]
  },
  {
   "cell_type": "markdown",
   "id": "0d770e61-3650-4446-8ef0-e95eb1637b29",
   "metadata": {},
   "source": [
    "Reordering the coulmns in the dataframe"
   ]
  },
  {
   "cell_type": "markdown",
   "id": "fd52be5f-63b0-4d5d-a42b-40df3a9cac37",
   "metadata": {},
   "source": [
    "Column reordering – Improves readability and ensures consistent structure, especially if the file will be shared or merged with other datasets."
   ]
  },
  {
   "cell_type": "markdown",
   "id": "506cd2e7-1309-4053-adda-0fd08670060b",
   "metadata": {},
   "source": [
    "\n",
    " 'new_order' defines the desired sequence of columns for better readability or consistency.\n",
    " This is useful for aligning data with a standard format or preferred layout."
   ]
  },
  {
   "cell_type": "code",
   "execution_count": null,
   "id": "2165c730-efdc-459d-a46f-6c95e81d02d3",
   "metadata": {},
   "outputs": [],
   "source": [
    "new_order = ['Date',\n",
    "             'Min Temperature',\n",
    "             'Max Temperature',\n",
    "             'Average Temperature',\n",
    "             'Precipitation',\n",
    "             'Wind',\n",
    "             'Relative Humidity',\n",
    "             'Solar']\n",
    "# Applying the new column order to the DataFrame\n",
    "df = df[new_order]"
   ]
  },
  {
   "cell_type": "markdown",
   "id": "9357f55f-172e-4381-999a-c3915de9ca6a",
   "metadata": {},
   "source": [
    "Printing DataFrame – Provides a final visual confirmation before saving."
   ]
  },
  {
   "cell_type": "code",
   "execution_count": null,
   "id": "f552d85d-f949-4c30-96ce-32b0a6f4dcd3",
   "metadata": {},
   "outputs": [],
   "source": [
    "# Printing the full DataFrame to verify that the columns are in the correct order\n",
    "print(df.to_string())"
   ]
  },
  {
   "cell_type": "markdown",
   "id": "f59911a1-3de4-4fe9-ab43-1f29b20aa37e",
   "metadata": {},
   "source": [
    "Saving to CSV – Stores the cleaned, well-formatted dataset for later analysis, sharing, or modeling."
   ]
  },
  {
   "cell_type": "code",
   "execution_count": null,
   "id": "7555b9c6-a548-4a65-ba7a-b5cbaabf9abb",
   "metadata": {},
   "outputs": [],
   "source": [
    "# Exporting the cleaned and formatted DataFrame to a CSV file\n",
    "# index=False ensures that the DataFrame's index is not written as a separate column in the CSV.\n",
    "# This makes the file cleaner and easier to use in other tools.\n",
    "\n",
    "df.to_csv('/Users/dani-myburgh/Downloads/weatherdata_cleaned.csv', index=False)"
   ]
  },
  {
   "cell_type": "code",
   "execution_count": null,
   "id": "25987680-390a-405c-9e4c-dd1d0b3d2ebd",
   "metadata": {},
   "outputs": [],
   "source": []
  }
 ],
 "metadata": {
  "kernelspec": {
   "display_name": "Python [conda env:base] *",
   "language": "python",
   "name": "conda-base-py"
  },
  "language_info": {
   "codemirror_mode": {
    "name": "ipython",
    "version": 3
   },
   "file_extension": ".py",
   "mimetype": "text/x-python",
   "name": "python",
   "nbconvert_exporter": "python",
   "pygments_lexer": "ipython3",
   "version": "3.12.7"
  }
 },
 "nbformat": 4,
 "nbformat_minor": 5
}

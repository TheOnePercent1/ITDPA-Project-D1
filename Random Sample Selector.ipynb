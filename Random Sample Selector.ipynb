{
 "cells": [
  {
   "cell_type": "markdown",
   "id": "c4bf8b4f-d04a-40d1-ba91-bfa8a75319ff",
   "metadata": {},
   "source": [
    "### Function for selecting random CSV files from a directory and copying them to an output folder. This code was used to select the random samples of continental weatherdata."
   ]
  },
  {
   "cell_type": "code",
   "execution_count": 32,
   "id": "8488ac5d-191c-4cae-91ad-275b3fd9725e",
   "metadata": {},
   "outputs": [],
   "source": [
    "import glob\n",
    "import os\n",
    "import random\n",
    "import shutil\n",
    "\n",
    "def select_random_sample(input_folder, output_folder, num_files, seed=None, min_size_kb=5):\n",
    "    \"\"\"\n",
    "    Select random CSV files larger than min_size_kb from input_folder (recursively),\n",
    "    copy to output_folder and prefix filenames with the parent folder name.\n",
    "    \"\"\"\n",
    "    \n",
    "    csv_files = [f for f in glob.glob(os.path.join(input_folder, '**', '*.*'), recursive=True)\n",
    "                 if f.lower().endswith('.csv')]\n",
    "\n",
    "    large_files = [f for f in csv_files if os.path.getsize(f) > min_size_kb * 1024]\n",
    "\n",
    "    if not large_files:\n",
    "        raise ValueError(f\"No CSV files larger than {min_size_kb} KB found in '{input_folder}'.\")\n",
    "\n",
    "    if seed is not None:\n",
    "        random.seed(seed)\n",
    "\n",
    "    selected_files = random.sample(large_files, min(num_files, len(large_files)))\n",
    "\n",
    "    os.makedirs(output_folder, exist_ok=True)\n",
    "    input_folder_abs = os.path.abspath(input_folder)\n",
    "\n",
    "    for file_path in selected_files:\n",
    "        original_name = os.path.basename(file_path)\n",
    "\n",
    "        parent_folder = os.path.basename(os.path.dirname(file_path))\n",
    "\n",
    "        if not parent_folder:\n",
    "            parent_folder = os.path.basename(os.path.normpath(input_folder_abs))\n",
    "\n",
    "        new_name = f\"{parent_folder}_{original_name}\"\n",
    "        new_path = os.path.join(output_folder, new_name)\n",
    "\n",
    "        shutil.copy(file_path, new_path)\n",
    "\n",
    "    print(f\"✅ Copied {len(selected_files)} files > {min_size_kb} KB from '{input_folder}' → '{output_folder}' (prefixed with parent folder)\")\n",
    "    return selected_files\n"
   ]
  },
  {
   "cell_type": "markdown",
   "id": "42d8351d-3de8-43d4-a830-231b3d2089b9",
   "metadata": {},
   "source": [
    "This process was done repeatedly for each continent's file. A for loop wasn't used as the files took too much space to be on the system at the same time"
   ]
  },
  {
   "cell_type": "code",
   "execution_count": 41,
   "id": "bf72f0f8-ce79-4de1-a662-61656da61849",
   "metadata": {},
   "outputs": [
    {
     "name": "stdout",
     "output_type": "stream",
     "text": [
      "✅ Copied 10 files > 5 KB from 'northAmerica/North America' → 'raw_sampled_files' (prefixed with parent folder)\n"
     ]
    },
    {
     "data": {
      "text/plain": [
       "['northAmerica/North America\\\\weatherdata-820-331.csv',\n",
       " 'northAmerica/North America\\\\weatherdata-423-825.csv',\n",
       " 'northAmerica/North America\\\\weatherdata-273-819.csv',\n",
       " 'northAmerica/North America\\\\weatherdata-573-1056.csv',\n",
       " 'northAmerica/North America\\\\weatherdata-520-563.csv',\n",
       " 'northAmerica/North America\\\\weatherdata-517-1213.csv',\n",
       " 'northAmerica/North America\\\\weatherdata-439-1241.csv',\n",
       " 'northAmerica/North America\\\\weatherdata-423-1075.csv',\n",
       " 'northAmerica/North America\\\\weatherdata-695-1228.csv',\n",
       " 'northAmerica/North America\\\\weatherdata-382-1025.csv']"
      ]
     },
     "execution_count": 41,
     "metadata": {},
     "output_type": "execute_result"
    }
   ],
   "source": [
    "input_folder = 'northAmerica/North America'\n",
    "output_folder = \"raw_sampled_files\"\n",
    "num_files = 10\n",
    "seed = 42\n",
    "\n",
    "select_random_sample(input_folder=input_folder, output_folder=output_folder, num_files=num_files, seed=seed)\n"
   ]
  },
  {
   "cell_type": "code",
   "execution_count": null,
   "id": "70750c95-b547-4c87-836f-24cbba2c6030",
   "metadata": {},
   "outputs": [],
   "source": []
  }
 ],
 "metadata": {
  "kernelspec": {
   "display_name": "Python [conda env:base] *",
   "language": "python",
   "name": "conda-base-py"
  },
  "language_info": {
   "codemirror_mode": {
    "name": "ipython",
    "version": 3
   },
   "file_extension": ".py",
   "mimetype": "text/x-python",
   "name": "python",
   "nbconvert_exporter": "python",
   "pygments_lexer": "ipython3",
   "version": "3.12.7"
  }
 },
 "nbformat": 4,
 "nbformat_minor": 5
}

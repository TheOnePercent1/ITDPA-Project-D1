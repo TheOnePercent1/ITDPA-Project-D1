{
 "cells": [
  {
   "cell_type": "code",
   "execution_count": null,
   "id": "3beedee2",
   "metadata": {},
   "outputs": [],
   "source": [
    "import pandas as pd\n",
    "import numpy as np\n",
    "import joblib\n",
    "from sklearn.metrics import mean_absolute_error, mean_squared_error, r2_score\n"
   ]
  },
  {
   "cell_type": "code",
   "execution_count": null,
   "id": "a0776181",
   "metadata": {},
   "outputs": [],
   "source": [
    "# Loding dataset , selecting any csv from the folder files \n",
    "df = pd.read_csv(\"file1.csv\")   \n",
    "df.head(5)\n"
   ]
  },
  {
   "cell_type": "code",
   "execution_count": null,
   "id": "7f47ffaa",
   "metadata": {},
   "outputs": [],
   "source": [
    "# Keeping required columns only \n",
    "keep_cols = [\n",
    "    \"Date\",\"Longitude\",\"Latitude\",\"Elevation\",\n",
    "    \"Max Temperature\",\"Min Temperature\",\n",
    "    \"Precipitation\",\"Wind\",\"Relative Humidity\",\"Solar\"\n",
    "]\n",
    "df = df[keep_cols].copy()\n"
   ]
  },
  {
   "cell_type": "code",
   "execution_count": null,
   "id": "94c517c9",
   "metadata": {},
   "outputs": [],
   "source": [
    "# Clean the dates remember , preprocessing has to be done again \n",
    "df[\"Date\"] = pd.to_datetime(df[\"Date\"])\n",
    "df = df.sort_values(\"Date\").reset_index(drop=True)\n"
   ]
  },
  {
   "cell_type": "code",
   "execution_count": null,
   "id": "3a159190",
   "metadata": {},
   "outputs": [],
   "source": [
    "# Re doing the feature engeneering \n",
    "df[\"Year\"]       = df[\"Date\"].dt.year\n",
    "df[\"Month\"]      = df[\"Date\"].dt.month\n",
    "df[\"Day Of Year\"]= df[\"Date\"].dt.dayofyear\n"
   ]
  },
  {
   "cell_type": "code",
   "execution_count": null,
   "id": "e3ebdf72",
   "metadata": {},
   "outputs": [],
   "source": [
    "# Re Creating PREPROCESS  (IQR + MinMax) the model was trained on data that was preprossesed \n",
    "def iqr_clip(s, k=1.5):\n",
    "    q1, q3 = s.quantile(0.25), s.quantile(0.75)\n",
    "    iqr = q3 - q1\n",
    "    lo, hi = q1 - k*iqr, q3 + k*iqr\n",
    "    return s.clip(lower=lo, upper=hi)\n",
    "\n",
    "def minmax_01(s):\n",
    "    smin, smax = s.min(), s.max()\n",
    "    if pd.isna(smin) or pd.isna(smax) or smax == smin:\n",
    "        return pd.Series(np.full(len(s), 0.5), index=s.index)\n",
    "    return (s - smin) / (smax - smin)\n",
    "\n"
   ]
  },
  {
   "cell_type": "code",
   "execution_count": null,
   "id": "5b3a281f",
   "metadata": {},
   "outputs": [],
   "source": [
    "\n",
    "# Preprocessing the data \n",
    "\n",
    "for col in [\"Precipitation\",\"Wind\",\"Relative Humidity\",\"Solar\"]:\n",
    "    df[col] = iqr_clip(df[col])\n",
    "    df[col] = minmax_01(df[col])\n"
   ]
  },
  {
   "cell_type": "code",
   "execution_count": null,
   "id": "75e78c40",
   "metadata": {},
   "outputs": [],
   "source": [
    "# Feature engeneering \n",
    "\n",
    "#CYCLIC ENCODINGS\n",
    "df[\"Month Sin\"]      = np.sin(2*np.pi*df[\"Month\"]/12.0)\n",
    "df[\"Month Cos\"]      = np.cos(2*np.pi*df[\"Month\"]/12.0)\n",
    "df[\"Day Of Year Sin\"]= np.sin(2*np.pi*df[\"Day Of Year\"]/365.0)\n",
    "df[\"Day Of Year Cos\"]= np.cos(2*np.pi*df[\"Day Of Year\"]/365.0)\n",
    "\n",
    "#LAGS & ROLLING \n",
    "df[\"Min Temperature_lag_1\"]   = df[\"Min Temperature\"].shift(1)\n",
    "df[\"Max Temperature_lag_1\"]   = df[\"Max Temperature\"].shift(1)\n",
    "df[\"Min Temperature_lag_2\"]   = df[\"Min Temperature\"].shift(2)\n",
    "df[\"Max Temperature_lag_2\"]   = df[\"Max Temperature\"].shift(2)\n",
    "df[\"Min Temperature_lag_3\"]   = df[\"Min Temperature\"].shift(3)\n",
    "df[\"Max Temperature_lag_3\"]   = df[\"Max Temperature\"].shift(3)\n",
    "df[\"Min Temperature_lag_365\"] = df[\"Min Temperature\"].shift(365)\n",
    "df[\"Max Temperature_lag_365\"] = df[\"Max Temperature\"].shift(365)\n",
    "\n",
    "for w in [7, 14, 30, 90]:\n",
    "    df[f\"Min Temperature_rolling_lag_{w}\"] = df[\"Min Temperature\"].shift(1).rolling(w, min_periods=1).mean()\n",
    "    df[f\"Max Temperature_rolling_lag_{w}\"] = df[\"Max Temperature\"].shift(1).rolling(w, min_periods=1).mean()\n",
    "\n"
   ]
  },
  {
   "cell_type": "code",
   "execution_count": null,
   "id": "82d87e13",
   "metadata": {},
   "outputs": [],
   "source": [
    "#Selecting Target and features for the model \n",
    "target_columns = [\"Min Temperature\", \"Max Temperature\"]\n",
    "feature_columns = [\n",
    "    \"Precipitation\",\"Wind\",\"Relative Humidity\",\"Solar\",\n",
    "    \"Year\",\"Month\",\"Day Of Year\",\n",
    "    \"Month Sin\",\"Month Cos\",\"Day Of Year Sin\",\"Day Of Year Cos\",\n",
    "    \"Min Temperature_lag_1\",\"Max Temperature_lag_1\",\n",
    "    \"Min Temperature_lag_2\",\"Max Temperature_lag_2\",\n",
    "    \"Min Temperature_lag_3\",\"Max Temperature_lag_3\",\n",
    "    \"Min Temperature_lag_365\",\"Max Temperature_lag_365\",\n",
    "    \"Min Temperature_rolling_lag_7\",\"Max Temperature_rolling_lag_7\",\n",
    "    \"Min Temperature_rolling_lag_14\",\"Max Temperature_rolling_lag_14\",\n",
    "    \"Min Temperature_rolling_lag_30\",\"Max Temperature_rolling_lag_30\",\n",
    "    \"Min Temperature_rolling_lag_90\",\"Max Temperature_rolling_lag_90\"\n",
    "]\n",
    "\n"
   ]
  },
  {
   "cell_type": "code",
   "execution_count": null,
   "id": "bce525c7",
   "metadata": {},
   "outputs": [],
   "source": [
    "# Creating the dataset for the model and the X test and Y test \n",
    "df_model = df.dropna(subset=target_columns + feature_columns).reset_index(drop=True)\n",
    "X = df_model[feature_columns].copy()\n",
    "y = df_model[target_columns].copy()\n"
   ]
  },
  {
   "cell_type": "code",
   "execution_count": null,
   "id": "3782c7bd",
   "metadata": {},
   "outputs": [],
   "source": [
    "# Loading the model \n",
    "model = joblib.load(\"best_random_forest_model.pkl\")  \n"
   ]
  },
  {
   "cell_type": "code",
   "execution_count": null,
   "id": "01af2460",
   "metadata": {},
   "outputs": [],
   "source": [
    "'''If the type of loading above dont work , you can rebuild the model \n",
    "and retain it based on the instructions in the main model file \n",
    "below is code to rebuilt the model using the parameters already found optimal \n",
    "\n",
    "from sklearn.ensemble import RandomForestRegressor\n",
    "import joblib\n",
    "\n",
    "# Building model directly with the best parameters\n",
    "model = RandomForestRegressor(\n",
    "    n_estimators=300,\n",
    "    min_samples_split=5,\n",
    "    min_samples_leaf=2,\n",
    "    max_depth=20,\n",
    "    random_state=42,\n",
    "    n_jobs=-1\n",
    ")\n",
    "\n",
    "#Training the model\n",
    "model.fit(X_train, y_train)'''\n"
   ]
  },
  {
   "cell_type": "code",
   "execution_count": null,
   "id": "e11c5f3d",
   "metadata": {},
   "outputs": [],
   "source": [
    "#Moving on to predictions \n",
    "y_pred = model.predict(X)\n",
    "\n",
    "df_model[\"Pred_Min_Temperature\"] = y_pred[:, 0]\n",
    "df_model[\"Pred_Max_Temperature\"] = y_pred[:, 1]\n"
   ]
  },
  {
   "cell_type": "code",
   "execution_count": null,
   "id": "7abf4c89",
   "metadata": {},
   "outputs": [],
   "source": [
    "#Calcutating metrics of predictions \n",
    "\n",
    "mae_min = mean_absolute_error(y[\"Min Temperature\"], df_model[\"Pred_Min_Temperature\"])\n",
    "mae_max = mean_absolute_error(y[\"Max Temperature\"], df_model[\"Pred_Max_Temperature\"])\n",
    "\n",
    "rmse_min = np.sqrt(mean_squared_error(y[\"Min Temperature\"], df_model[\"Pred_Min_Temperature\"]))\n",
    "rmse_max = np.sqrt(mean_squared_error(y[\"Max Temperature\"], df_model[\"Pred_Max_Temperature\"]))\n",
    "\n",
    "r2_min = r2_score(y[\"Min Temperature\"], df_model[\"Pred_Min_Temperature\"])\n",
    "r2_max = r2_score(y[\"Max Temperature\"], df_model[\"Pred_Max_Temperature\"])\n",
    "\n"
   ]
  },
  {
   "cell_type": "code",
   "execution_count": null,
   "id": "860f2b7c",
   "metadata": {},
   "outputs": [],
   "source": [
    "#Printing metrics \n",
    "print(f\"MAE (Min Temp): {mae_min:.3f}\")\n",
    "print(f\"MAE (Max Temp): {mae_max:.3f}\")\n",
    "print(f\"RMSE (Min Temp): {rmse_min:.3f}\")\n",
    "print(f\"RMSE (Max Temp): {rmse_max:.3f}\")\n",
    "print(f\"R² (Min Temp): {r2_min:.3f}\")\n",
    "print(f\"R² (Max Temp): {r2_max:.3f}\")\n"
   ]
  },
  {
   "cell_type": "code",
   "execution_count": null,
   "id": "1ee9c733",
   "metadata": {},
   "outputs": [],
   "source": []
  }
 ],
 "metadata": {
  "kernelspec": {
   "display_name": "Python 3 (ipykernel)",
   "language": "python",
   "name": "python3"
  },
  "language_info": {
   "codemirror_mode": {
    "name": "ipython",
    "version": 3
   },
   "file_extension": ".py",
   "mimetype": "text/x-python",
   "name": "python",
   "nbconvert_exporter": "python",
   "pygments_lexer": "ipython3",
   "version": "3.11.8"
  }
 },
 "nbformat": 4,
 "nbformat_minor": 5
}

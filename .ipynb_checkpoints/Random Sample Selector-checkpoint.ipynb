{
 "cells": [
  {
   "cell_type": "code",
   "execution_count": 5,
   "id": "8488ac5d-191c-4cae-91ad-275b3fd9725e",
   "metadata": {},
   "outputs": [],
   "source": [
    "import glob\n",
    "import os\n",
    "import random\n",
    "import shutil\n",
    "\n",
    "def select_random_sample(input_folder, output_folder, num_files, seed=None):\n",
    "    \"\"\"\n",
    "    Select a random sample of CSV files from one folder and copy them to another.\n",
    "\n",
    "    Parameters:\n",
    "        input_folder (str): Path to the folder containing CSV files.\n",
    "        output_folder (str): Path to the folder to copy selected files into.\n",
    "        num_files (int): Number of random files to select.\n",
    "        seed (int, optional): Random seed for reproducibility.\n",
    "    \"\"\"\n",
    "\n",
    "    # Get all CSV files in the input folder\n",
    "    csv_files = glob.glob(os.path.join(input_folder, '*.csv'))\n",
    "    \n",
    "    # Check if any CSV files were found\n",
    "    if not csv_files:\n",
    "        raise ValueError(f\"No CSV files found in folder: {input_folder}\")\n",
    "\n",
    "    # Set random seed (optional)\n",
    "    if seed is not None:\n",
    "        random.seed(seed)\n",
    "\n",
    "    # Randomly choose files (without replacement)\n",
    "    selected_files = random.sample(csv_files, min(num_files, len(csv_files)))\n",
    "\n",
    "    # Create output folder if it doesn't exist\n",
    "    os.makedirs(output_folder, exist_ok=True)\n",
    "\n",
    "    # Copy each selected file to the output folder\n",
    "    for file_path in selected_files:\n",
    "        shutil.copy(file_path, output_folder)\n",
    "\n",
    "    print(f\"✅ Copied {len(selected_files)} random files from '{input_folder}' → '{output_folder}'\")\n",
    "\n",
    "    return selected_files"
   ]
  },
  {
   "cell_type": "code",
   "execution_count": 13,
   "id": "bf72f0f8-ce79-4de1-a662-61656da61849",
   "metadata": {},
   "outputs": [
    {
     "ename": "ValueError",
     "evalue": "No CSV files found in folder: asia/Asia",
     "output_type": "error",
     "traceback": [
      "\u001b[1;31m---------------------------------------------------------------------------\u001b[0m",
      "\u001b[1;31mValueError\u001b[0m                                Traceback (most recent call last)",
      "Cell \u001b[1;32mIn[13], line 6\u001b[0m\n\u001b[0;32m      3\u001b[0m num_files \u001b[38;5;241m=\u001b[39m \u001b[38;5;241m5\u001b[39m\n\u001b[0;32m      4\u001b[0m seed \u001b[38;5;241m=\u001b[39m \u001b[38;5;241m42\u001b[39m\n\u001b[1;32m----> 6\u001b[0m select_random_sample(input_folder\u001b[38;5;241m=\u001b[39minput_folder, output_folder\u001b[38;5;241m=\u001b[39moutput_folder, num_files\u001b[38;5;241m=\u001b[39mnum_files, seed\u001b[38;5;241m=\u001b[39mseed)\n",
      "Cell \u001b[1;32mIn[5], line 22\u001b[0m, in \u001b[0;36mselect_random_sample\u001b[1;34m(input_folder, output_folder, num_files, seed)\u001b[0m\n\u001b[0;32m     20\u001b[0m \u001b[38;5;66;03m# Check if any CSV files were found\u001b[39;00m\n\u001b[0;32m     21\u001b[0m \u001b[38;5;28;01mif\u001b[39;00m \u001b[38;5;129;01mnot\u001b[39;00m csv_files:\n\u001b[1;32m---> 22\u001b[0m     \u001b[38;5;28;01mraise\u001b[39;00m \u001b[38;5;167;01mValueError\u001b[39;00m(\u001b[38;5;124mf\u001b[39m\u001b[38;5;124m\"\u001b[39m\u001b[38;5;124mNo CSV files found in folder: \u001b[39m\u001b[38;5;132;01m{\u001b[39;00minput_folder\u001b[38;5;132;01m}\u001b[39;00m\u001b[38;5;124m\"\u001b[39m)\n\u001b[0;32m     24\u001b[0m \u001b[38;5;66;03m# Set random seed (optional)\u001b[39;00m\n\u001b[0;32m     25\u001b[0m \u001b[38;5;28;01mif\u001b[39;00m seed \u001b[38;5;129;01mis\u001b[39;00m \u001b[38;5;129;01mnot\u001b[39;00m \u001b[38;5;28;01mNone\u001b[39;00m:\n",
      "\u001b[1;31mValueError\u001b[0m: No CSV files found in folder: asia/Asia"
     ]
    }
   ],
   "source": [
    "input_folder = 'asia/Asia'\n",
    "output_folder = \"raw_sampled_files\"\n",
    "num_files = 5\n",
    "seed = 42\n",
    "\n",
    "select_random_sample(input_folder=input_folder, output_folder=output_folder, num_files=num_files, seed=seed)\n"
   ]
  },
  {
   "cell_type": "code",
   "execution_count": null,
   "id": "70750c95-b547-4c87-836f-24cbba2c6030",
   "metadata": {},
   "outputs": [],
   "source": []
  }
 ],
 "metadata": {
  "kernelspec": {
   "display_name": "Python [conda env:base] *",
   "language": "python",
   "name": "conda-base-py"
  },
  "language_info": {
   "codemirror_mode": {
    "name": "ipython",
    "version": 3
   },
   "file_extension": ".py",
   "mimetype": "text/x-python",
   "name": "python",
   "nbconvert_exporter": "python",
   "pygments_lexer": "ipython3",
   "version": "3.12.7"
  }
 },
 "nbformat": 4,
 "nbformat_minor": 5
}

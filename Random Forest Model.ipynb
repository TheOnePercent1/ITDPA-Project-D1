{
 "cells": [
  {
   "cell_type": "code",
   "execution_count": 1,
   "id": "af58bc51-f682-4d3d-b65d-cc18a16bb4cf",
   "metadata": {},
   "outputs": [
    {
     "data": {
      "text/html": [
       "<div>\n",
       "<style scoped>\n",
       "    .dataframe tbody tr th:only-of-type {\n",
       "        vertical-align: middle;\n",
       "    }\n",
       "\n",
       "    .dataframe tbody tr th {\n",
       "        vertical-align: top;\n",
       "    }\n",
       "\n",
       "    .dataframe thead th {\n",
       "        text-align: right;\n",
       "    }\n",
       "</style>\n",
       "<table border=\"1\" class=\"dataframe\">\n",
       "  <thead>\n",
       "    <tr style=\"text-align: right;\">\n",
       "      <th></th>\n",
       "      <th>Date</th>\n",
       "      <th>Year</th>\n",
       "      <th>Month</th>\n",
       "      <th>Min Temperature(°C)</th>\n",
       "      <th>Max Temperature(°C)</th>\n",
       "      <th>Average Temperature(°C)</th>\n",
       "      <th>Precipitation(mm)</th>\n",
       "      <th>Wind(km/h)</th>\n",
       "      <th>Relative Humidity</th>\n",
       "      <th>Solar(W/m²)</th>\n",
       "    </tr>\n",
       "  </thead>\n",
       "  <tbody>\n",
       "    <tr>\n",
       "      <th>0</th>\n",
       "      <td>1979-01-01</td>\n",
       "      <td>1979</td>\n",
       "      <td>1</td>\n",
       "      <td>25.154</td>\n",
       "      <td>28.419</td>\n",
       "      <td>26.786</td>\n",
       "      <td>13.125</td>\n",
       "      <td>6.932</td>\n",
       "      <td>0.824</td>\n",
       "      <td>21.584</td>\n",
       "    </tr>\n",
       "    <tr>\n",
       "      <th>1</th>\n",
       "      <td>1979-01-02</td>\n",
       "      <td>1979</td>\n",
       "      <td>1</td>\n",
       "      <td>24.853</td>\n",
       "      <td>27.973</td>\n",
       "      <td>26.413</td>\n",
       "      <td>23.355</td>\n",
       "      <td>6.081</td>\n",
       "      <td>0.870</td>\n",
       "      <td>19.647</td>\n",
       "    </tr>\n",
       "    <tr>\n",
       "      <th>2</th>\n",
       "      <td>1979-01-03</td>\n",
       "      <td>1979</td>\n",
       "      <td>1</td>\n",
       "      <td>25.469</td>\n",
       "      <td>27.772</td>\n",
       "      <td>26.620</td>\n",
       "      <td>39.468</td>\n",
       "      <td>6.015</td>\n",
       "      <td>0.874</td>\n",
       "      <td>23.400</td>\n",
       "    </tr>\n",
       "    <tr>\n",
       "      <th>3</th>\n",
       "      <td>1979-01-04</td>\n",
       "      <td>1979</td>\n",
       "      <td>1</td>\n",
       "      <td>24.851</td>\n",
       "      <td>26.534</td>\n",
       "      <td>25.692</td>\n",
       "      <td>23.830</td>\n",
       "      <td>6.422</td>\n",
       "      <td>0.886</td>\n",
       "      <td>13.279</td>\n",
       "    </tr>\n",
       "    <tr>\n",
       "      <th>4</th>\n",
       "      <td>1979-01-05</td>\n",
       "      <td>1979</td>\n",
       "      <td>1</td>\n",
       "      <td>24.974</td>\n",
       "      <td>28.343</td>\n",
       "      <td>26.658</td>\n",
       "      <td>9.089</td>\n",
       "      <td>6.162</td>\n",
       "      <td>0.844</td>\n",
       "      <td>24.058</td>\n",
       "    </tr>\n",
       "  </tbody>\n",
       "</table>\n",
       "</div>"
      ],
      "text/plain": [
       "         Date  Year  Month  Min Temperature(°C)  Max Temperature(°C)  \\\n",
       "0  1979-01-01  1979      1               25.154               28.419   \n",
       "1  1979-01-02  1979      1               24.853               27.973   \n",
       "2  1979-01-03  1979      1               25.469               27.772   \n",
       "3  1979-01-04  1979      1               24.851               26.534   \n",
       "4  1979-01-05  1979      1               24.974               28.343   \n",
       "\n",
       "   Average Temperature(°C)  Precipitation(mm)  Wind(km/h)  Relative Humidity  \\\n",
       "0                   26.786             13.125       6.932              0.824   \n",
       "1                   26.413             23.355       6.081              0.870   \n",
       "2                   26.620             39.468       6.015              0.874   \n",
       "3                   25.692             23.830       6.422              0.886   \n",
       "4                   26.658              9.089       6.162              0.844   \n",
       "\n",
       "   Solar(W/m²)  \n",
       "0       21.584  \n",
       "1       19.647  \n",
       "2       23.400  \n",
       "3       13.279  \n",
       "4       24.058  "
      ]
     },
     "execution_count": 1,
     "metadata": {},
     "output_type": "execute_result"
    }
   ],
   "source": [
    "import pandas as pd\n",
    "import numpy as np\n",
    "\n",
    "df = pd.read_csv(\"weatherdata_cleaned.csv\")\n",
    "df.head(5)"
   ]
  },
  {
   "cell_type": "code",
   "execution_count": 2,
   "id": "5547ca95-837c-49bb-a64e-cc750d8e9f14",
   "metadata": {},
   "outputs": [],
   "source": [
    "X = df.drop(columns=['Min Temperature(°C)', 'Max Temperature(°C)', 'Average Temperature(°C)'])"
   ]
  },
  {
   "cell_type": "code",
   "execution_count": 3,
   "id": "1a9b5844-e3e1-4500-8505-3a30ceda39ca",
   "metadata": {},
   "outputs": [],
   "source": [
    "y1 = df['Min Temperature(°C)']\n",
    "y2 = df['Max Temperature(°C)']\n",
    "y3 = df['Average Temperature(°C)']\n",
    "\n",
    "y_array = [y1, y2, y3]"
   ]
  },
  {
   "cell_type": "code",
   "execution_count": 4,
   "id": "21e86973-2710-4862-81d2-c3f021c2f866",
   "metadata": {},
   "outputs": [],
   "source": [
    "from sklearn.model_selection import train_test_split\n",
    "from sklearn.preprocessing import StandardScaler\n",
    "from sklearn.pipeline import Pipeline\n",
    "from sklearn.linear_model import LinearRegression\n",
    "from sklearn.metrics import mean_squared_error, mean_absolute_error, r2_score"
   ]
  },
  {
   "cell_type": "code",
   "execution_count": 5,
   "id": "da5de140-bc5e-4917-9a2e-71430964d62a",
   "metadata": {},
   "outputs": [],
   "source": [
    "#Model to be replaced with Random forest\n",
    "\n",
    "pipeline = Pipeline(steps = [\n",
    "    (\"scale\", StandardScaler()),\n",
    "    (\"model\", LinearRegression())   \n",
    "])"
   ]
  },
  {
   "cell_type": "code",
   "execution_count": 6,
   "id": "a7f7d1b1-5dbe-4b0e-a6c6-7026dd1ab1cf",
   "metadata": {},
   "outputs": [
    {
     "name": "stdout",
     "output_type": "stream",
     "text": [
      "Min Temperature(°C)\n",
      "MAE: 1.061\n",
      "RMSE: 1.369\n",
      "R²: 0.305\n",
      "\n",
      "Max Temperature(°C)\n",
      "MAE: 1.265\n",
      "RMSE: 1.680\n",
      "R²: 0.662\n",
      "\n",
      "Average Temperature(°C)\n",
      "MAE: 0.982\n",
      "RMSE: 1.271\n",
      "R²: 0.440\n",
      "\n"
     ]
    }
   ],
   "source": [
    "#This is purely for testing pipeline! Model is not complete\n",
    "\n",
    "X = X.drop(columns=\"Date\")\n",
    "\n",
    "for y in y_array:\n",
    "    X_train, X_test, y_train, y_test = train_test_split(X, y, test_size=0.2, random_state=42)\n",
    "    pipeline.fit(X_train, y_train)\n",
    "    y_pred = pipeline.predict(X_test)\n",
    "\n",
    "    mse = mean_squared_error(y_test, y_pred)\n",
    "    rmse = np.sqrt(mse)\n",
    "    mae = mean_absolute_error(y_test, y_pred)\n",
    "    r2 = r2_score(y_test, y_pred)\n",
    "    print(y.name)\n",
    "    print(f\"MAE: {mae:.3f}\")\n",
    "    print(f\"RMSE: {rmse:.3f}\")\n",
    "    print(f\"R²: {r2:.3f}\\n\")"
   ]
  },
  {
   "cell_type": "code",
   "execution_count": null,
   "id": "364b130f-3d92-46f2-8c57-fae6775992d5",
   "metadata": {},
   "outputs": [],
   "source": []
  }
 ],
 "metadata": {
  "kernelspec": {
   "display_name": "Python [conda env:base] *",
   "language": "python",
   "name": "conda-base-py"
  },
  "language_info": {
   "codemirror_mode": {
    "name": "ipython",
    "version": 3
   },
   "file_extension": ".py",
   "mimetype": "text/x-python",
   "name": "python",
   "nbconvert_exporter": "python",
   "pygments_lexer": "ipython3",
   "version": "3.12.7"
  }
 },
 "nbformat": 4,
 "nbformat_minor": 5
}
